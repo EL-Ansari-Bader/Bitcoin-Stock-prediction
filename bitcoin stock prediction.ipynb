{
 "cells": [
  {
   "cell_type": "code",
   "execution_count": 1,
   "id": "e82516ef",
   "metadata": {},
   "outputs": [],
   "source": [
    "import pandas as  pd\n",
    "import matplotlib.pyplot as plt \n",
    "import tensorflow as tf\n",
    "import quandl\n",
    "import seaborn as sns\n",
    "import numpy as np\n",
    "from tensorflow import keras\n",
    "from sklearn.preprocessing import MinMaxScaler\n",
    "from sklearn.metrics import mean_squared_error ,  r2_score\n",
    "import datetime\n",
    "from sklearn.model_selection import KFold"
   ]
  },
  {
   "cell_type": "code",
   "execution_count": 2,
   "id": "d3c75bbc",
   "metadata": {},
   "outputs": [],
   "source": [
    "Data = quandl.get(\"BCHARTS/BITSTAMPUSD\", authtoken=\"4QxSz6Qa948RE7_PqsXw\", collapse=\"daily\")"
   ]
  },
  {
   "cell_type": "code",
   "execution_count": 3,
   "id": "732d3e02",
   "metadata": {},
   "outputs": [
    {
     "data": {
      "text/html": [
       "<div>\n",
       "<style scoped>\n",
       "    .dataframe tbody tr th:only-of-type {\n",
       "        vertical-align: middle;\n",
       "    }\n",
       "\n",
       "    .dataframe tbody tr th {\n",
       "        vertical-align: top;\n",
       "    }\n",
       "\n",
       "    .dataframe thead th {\n",
       "        text-align: right;\n",
       "    }\n",
       "</style>\n",
       "<table border=\"1\" class=\"dataframe\">\n",
       "  <thead>\n",
       "    <tr style=\"text-align: right;\">\n",
       "      <th></th>\n",
       "      <th>Open</th>\n",
       "      <th>High</th>\n",
       "      <th>Low</th>\n",
       "      <th>Close</th>\n",
       "      <th>Volume (BTC)</th>\n",
       "      <th>Volume (Currency)</th>\n",
       "      <th>Weighted Price</th>\n",
       "    </tr>\n",
       "    <tr>\n",
       "      <th>Date</th>\n",
       "      <th></th>\n",
       "      <th></th>\n",
       "      <th></th>\n",
       "      <th></th>\n",
       "      <th></th>\n",
       "      <th></th>\n",
       "      <th></th>\n",
       "    </tr>\n",
       "  </thead>\n",
       "  <tbody>\n",
       "    <tr>\n",
       "      <th>2011-09-13</th>\n",
       "      <td>5.80</td>\n",
       "      <td>6.00</td>\n",
       "      <td>5.65</td>\n",
       "      <td>5.97</td>\n",
       "      <td>58.371382</td>\n",
       "      <td>3.460974e+02</td>\n",
       "      <td>5.929231</td>\n",
       "    </tr>\n",
       "    <tr>\n",
       "      <th>2011-09-14</th>\n",
       "      <td>5.58</td>\n",
       "      <td>5.72</td>\n",
       "      <td>5.52</td>\n",
       "      <td>5.53</td>\n",
       "      <td>61.145984</td>\n",
       "      <td>3.418548e+02</td>\n",
       "      <td>5.590798</td>\n",
       "    </tr>\n",
       "    <tr>\n",
       "      <th>2011-09-15</th>\n",
       "      <td>5.12</td>\n",
       "      <td>5.24</td>\n",
       "      <td>5.00</td>\n",
       "      <td>5.13</td>\n",
       "      <td>80.140795</td>\n",
       "      <td>4.082590e+02</td>\n",
       "      <td>5.094272</td>\n",
       "    </tr>\n",
       "    <tr>\n",
       "      <th>2011-09-16</th>\n",
       "      <td>4.82</td>\n",
       "      <td>4.87</td>\n",
       "      <td>4.80</td>\n",
       "      <td>4.85</td>\n",
       "      <td>39.914007</td>\n",
       "      <td>1.937631e+02</td>\n",
       "      <td>4.854515</td>\n",
       "    </tr>\n",
       "    <tr>\n",
       "      <th>2011-09-17</th>\n",
       "      <td>4.87</td>\n",
       "      <td>4.87</td>\n",
       "      <td>4.87</td>\n",
       "      <td>4.87</td>\n",
       "      <td>0.300000</td>\n",
       "      <td>1.461000e+00</td>\n",
       "      <td>4.870000</td>\n",
       "    </tr>\n",
       "    <tr>\n",
       "      <th>...</th>\n",
       "      <td>...</td>\n",
       "      <td>...</td>\n",
       "      <td>...</td>\n",
       "      <td>...</td>\n",
       "      <td>...</td>\n",
       "      <td>...</td>\n",
       "      <td>...</td>\n",
       "    </tr>\n",
       "    <tr>\n",
       "      <th>2021-06-06</th>\n",
       "      <td>35532.59</td>\n",
       "      <td>36510.58</td>\n",
       "      <td>35250.00</td>\n",
       "      <td>35808.85</td>\n",
       "      <td>2526.733620</td>\n",
       "      <td>9.074431e+07</td>\n",
       "      <td>35913.681035</td>\n",
       "    </tr>\n",
       "    <tr>\n",
       "      <th>2021-06-07</th>\n",
       "      <td>35810.69</td>\n",
       "      <td>36808.30</td>\n",
       "      <td>33321.09</td>\n",
       "      <td>33582.62</td>\n",
       "      <td>4913.040225</td>\n",
       "      <td>1.747388e+08</td>\n",
       "      <td>35566.337930</td>\n",
       "    </tr>\n",
       "    <tr>\n",
       "      <th>2021-06-08</th>\n",
       "      <td>33567.51</td>\n",
       "      <td>34085.61</td>\n",
       "      <td>31025.00</td>\n",
       "      <td>33411.69</td>\n",
       "      <td>9044.648470</td>\n",
       "      <td>2.954111e+08</td>\n",
       "      <td>32661.425472</td>\n",
       "    </tr>\n",
       "    <tr>\n",
       "      <th>2021-06-09</th>\n",
       "      <td>33413.19</td>\n",
       "      <td>37556.25</td>\n",
       "      <td>32423.72</td>\n",
       "      <td>37400.00</td>\n",
       "      <td>8539.587342</td>\n",
       "      <td>3.003795e+08</td>\n",
       "      <td>35174.946898</td>\n",
       "    </tr>\n",
       "    <tr>\n",
       "      <th>2021-06-10</th>\n",
       "      <td>37414.64</td>\n",
       "      <td>38446.24</td>\n",
       "      <td>35824.69</td>\n",
       "      <td>36893.89</td>\n",
       "      <td>5667.253973</td>\n",
       "      <td>2.103699e+08</td>\n",
       "      <td>37120.247501</td>\n",
       "    </tr>\n",
       "  </tbody>\n",
       "</table>\n",
       "<p>3550 rows × 7 columns</p>\n",
       "</div>"
      ],
      "text/plain": [
       "                Open      High       Low     Close  Volume (BTC)  \\\n",
       "Date                                                               \n",
       "2011-09-13      5.80      6.00      5.65      5.97     58.371382   \n",
       "2011-09-14      5.58      5.72      5.52      5.53     61.145984   \n",
       "2011-09-15      5.12      5.24      5.00      5.13     80.140795   \n",
       "2011-09-16      4.82      4.87      4.80      4.85     39.914007   \n",
       "2011-09-17      4.87      4.87      4.87      4.87      0.300000   \n",
       "...              ...       ...       ...       ...           ...   \n",
       "2021-06-06  35532.59  36510.58  35250.00  35808.85   2526.733620   \n",
       "2021-06-07  35810.69  36808.30  33321.09  33582.62   4913.040225   \n",
       "2021-06-08  33567.51  34085.61  31025.00  33411.69   9044.648470   \n",
       "2021-06-09  33413.19  37556.25  32423.72  37400.00   8539.587342   \n",
       "2021-06-10  37414.64  38446.24  35824.69  36893.89   5667.253973   \n",
       "\n",
       "            Volume (Currency)  Weighted Price  \n",
       "Date                                           \n",
       "2011-09-13       3.460974e+02        5.929231  \n",
       "2011-09-14       3.418548e+02        5.590798  \n",
       "2011-09-15       4.082590e+02        5.094272  \n",
       "2011-09-16       1.937631e+02        4.854515  \n",
       "2011-09-17       1.461000e+00        4.870000  \n",
       "...                       ...             ...  \n",
       "2021-06-06       9.074431e+07    35913.681035  \n",
       "2021-06-07       1.747388e+08    35566.337930  \n",
       "2021-06-08       2.954111e+08    32661.425472  \n",
       "2021-06-09       3.003795e+08    35174.946898  \n",
       "2021-06-10       2.103699e+08    37120.247501  \n",
       "\n",
       "[3550 rows x 7 columns]"
      ]
     },
     "execution_count": 3,
     "metadata": {},
     "output_type": "execute_result"
    }
   ],
   "source": [
    "Data"
   ]
  },
  {
   "cell_type": "code",
   "execution_count": 4,
   "id": "b953d012",
   "metadata": {},
   "outputs": [
    {
     "name": "stdout",
     "output_type": "stream",
     "text": [
      "\\begin{tabular}{rrrrrrr}\n",
      "\\toprule\n",
      " Open &  High &  Low &  Close &  Volume (BTC) &  Volume (Currency) &  Weighted Price \\\\\n",
      " 5.80 &  6.00 & 5.65 &   5.97 &     58.371382 &         346.097389 &        5.929231 \\\\\n",
      "\\midrule\n",
      " 5.58 &  5.72 & 5.52 &   5.53 &     61.145984 &         341.854813 &        5.590798 \\\\\n",
      " 5.12 &  5.24 & 5.00 &   5.13 &     80.140795 &         408.259002 &        5.094272 \\\\\n",
      " 4.82 &  4.87 & 4.80 &   4.85 &     39.914007 &         193.763147 &        4.854515 \\\\\n",
      " 4.87 &  4.87 & 4.87 &   4.87 &      0.300000 &           1.461000 &        4.870000 \\\\\n",
      "\\bottomrule\n",
      "\\end{tabular}\n",
      "\n"
     ]
    }
   ],
   "source": [
    "print(Data.head(5).to_latex(index=False))"
   ]
  },
  {
   "cell_type": "code",
   "execution_count": 5,
   "id": "023d938f",
   "metadata": {},
   "outputs": [
    {
     "name": "stdout",
     "output_type": "stream",
     "text": [
      "<class 'pandas.core.frame.DataFrame'>\n",
      "DatetimeIndex: 3550 entries, 2011-09-13 to 2021-06-10\n",
      "Data columns (total 7 columns):\n",
      " #   Column             Non-Null Count  Dtype  \n",
      "---  ------             --------------  -----  \n",
      " 0   Open               3550 non-null   float64\n",
      " 1   High               3550 non-null   float64\n",
      " 2   Low                3550 non-null   float64\n",
      " 3   Close              3550 non-null   float64\n",
      " 4   Volume (BTC)       3550 non-null   float64\n",
      " 5   Volume (Currency)  3550 non-null   float64\n",
      " 6   Weighted Price     3550 non-null   float64\n",
      "dtypes: float64(7)\n",
      "memory usage: 221.9 KB\n"
     ]
    }
   ],
   "source": [
    "Data.info()"
   ]
  },
  {
   "cell_type": "code",
   "execution_count": 6,
   "id": "7e08f54a",
   "metadata": {},
   "outputs": [
    {
     "data": {
      "text/html": [
       "<div>\n",
       "<style scoped>\n",
       "    .dataframe tbody tr th:only-of-type {\n",
       "        vertical-align: middle;\n",
       "    }\n",
       "\n",
       "    .dataframe tbody tr th {\n",
       "        vertical-align: top;\n",
       "    }\n",
       "\n",
       "    .dataframe thead th {\n",
       "        text-align: right;\n",
       "    }\n",
       "</style>\n",
       "<table border=\"1\" class=\"dataframe\">\n",
       "  <thead>\n",
       "    <tr style=\"text-align: right;\">\n",
       "      <th></th>\n",
       "      <th>Open</th>\n",
       "      <th>High</th>\n",
       "      <th>Low</th>\n",
       "      <th>Close</th>\n",
       "      <th>Volume (BTC)</th>\n",
       "      <th>Volume (Currency)</th>\n",
       "      <th>Weighted Price</th>\n",
       "    </tr>\n",
       "  </thead>\n",
       "  <tbody>\n",
       "    <tr>\n",
       "      <th>count</th>\n",
       "      <td>3550.000000</td>\n",
       "      <td>3550.000000</td>\n",
       "      <td>3550.000000</td>\n",
       "      <td>3550.000000</td>\n",
       "      <td>3550.000000</td>\n",
       "      <td>3.550000e+03</td>\n",
       "      <td>3550.000000</td>\n",
       "    </tr>\n",
       "    <tr>\n",
       "      <th>mean</th>\n",
       "      <td>5293.827473</td>\n",
       "      <td>5460.398966</td>\n",
       "      <td>5099.629175</td>\n",
       "      <td>5300.631076</td>\n",
       "      <td>9565.018491</td>\n",
       "      <td>4.656404e+07</td>\n",
       "      <td>5287.246412</td>\n",
       "    </tr>\n",
       "    <tr>\n",
       "      <th>std</th>\n",
       "      <td>10244.410786</td>\n",
       "      <td>10583.008640</td>\n",
       "      <td>9829.693772</td>\n",
       "      <td>10248.045628</td>\n",
       "      <td>9989.736588</td>\n",
       "      <td>9.358006e+07</td>\n",
       "      <td>10229.674915</td>\n",
       "    </tr>\n",
       "    <tr>\n",
       "      <th>min</th>\n",
       "      <td>0.000000</td>\n",
       "      <td>0.000000</td>\n",
       "      <td>0.000000</td>\n",
       "      <td>0.000000</td>\n",
       "      <td>0.000000</td>\n",
       "      <td>0.000000e+00</td>\n",
       "      <td>0.000000</td>\n",
       "    </tr>\n",
       "    <tr>\n",
       "      <th>25%</th>\n",
       "      <td>235.337500</td>\n",
       "      <td>238.835000</td>\n",
       "      <td>230.955000</td>\n",
       "      <td>235.607500</td>\n",
       "      <td>3641.451698</td>\n",
       "      <td>1.560178e+06</td>\n",
       "      <td>235.218036</td>\n",
       "    </tr>\n",
       "    <tr>\n",
       "      <th>50%</th>\n",
       "      <td>669.330000</td>\n",
       "      <td>684.145000</td>\n",
       "      <td>651.015000</td>\n",
       "      <td>671.120000</td>\n",
       "      <td>6935.980151</td>\n",
       "      <td>7.472516e+06</td>\n",
       "      <td>665.240968</td>\n",
       "    </tr>\n",
       "    <tr>\n",
       "      <th>75%</th>\n",
       "      <td>7335.032500</td>\n",
       "      <td>7521.345000</td>\n",
       "      <td>7150.000000</td>\n",
       "      <td>7343.490000</td>\n",
       "      <td>12232.375427</td>\n",
       "      <td>5.204943e+07</td>\n",
       "      <td>7319.430445</td>\n",
       "    </tr>\n",
       "    <tr>\n",
       "      <th>max</th>\n",
       "      <td>63605.690000</td>\n",
       "      <td>64895.220000</td>\n",
       "      <td>61998.900000</td>\n",
       "      <td>63564.480000</td>\n",
       "      <td>137070.178338</td>\n",
       "      <td>1.369434e+09</td>\n",
       "      <td>63314.685801</td>\n",
       "    </tr>\n",
       "  </tbody>\n",
       "</table>\n",
       "</div>"
      ],
      "text/plain": [
       "               Open          High           Low         Close   Volume (BTC)  \\\n",
       "count   3550.000000   3550.000000   3550.000000   3550.000000    3550.000000   \n",
       "mean    5293.827473   5460.398966   5099.629175   5300.631076    9565.018491   \n",
       "std    10244.410786  10583.008640   9829.693772  10248.045628    9989.736588   \n",
       "min        0.000000      0.000000      0.000000      0.000000       0.000000   \n",
       "25%      235.337500    238.835000    230.955000    235.607500    3641.451698   \n",
       "50%      669.330000    684.145000    651.015000    671.120000    6935.980151   \n",
       "75%     7335.032500   7521.345000   7150.000000   7343.490000   12232.375427   \n",
       "max    63605.690000  64895.220000  61998.900000  63564.480000  137070.178338   \n",
       "\n",
       "       Volume (Currency)  Weighted Price  \n",
       "count       3.550000e+03     3550.000000  \n",
       "mean        4.656404e+07     5287.246412  \n",
       "std         9.358006e+07    10229.674915  \n",
       "min         0.000000e+00        0.000000  \n",
       "25%         1.560178e+06      235.218036  \n",
       "50%         7.472516e+06      665.240968  \n",
       "75%         5.204943e+07     7319.430445  \n",
       "max         1.369434e+09    63314.685801  "
      ]
     },
     "execution_count": 6,
     "metadata": {},
     "output_type": "execute_result"
    }
   ],
   "source": [
    "Data.describe()"
   ]
  },
  {
   "cell_type": "code",
   "execution_count": 7,
   "id": "8c467af9",
   "metadata": {},
   "outputs": [],
   "source": [
    "Data.reset_index(level=0,inplace=True )"
   ]
  },
  {
   "cell_type": "code",
   "execution_count": 8,
   "id": "18aae084",
   "metadata": {},
   "outputs": [
    {
     "data": {
      "text/html": [
       "<div>\n",
       "<style scoped>\n",
       "    .dataframe tbody tr th:only-of-type {\n",
       "        vertical-align: middle;\n",
       "    }\n",
       "\n",
       "    .dataframe tbody tr th {\n",
       "        vertical-align: top;\n",
       "    }\n",
       "\n",
       "    .dataframe thead th {\n",
       "        text-align: right;\n",
       "    }\n",
       "</style>\n",
       "<table border=\"1\" class=\"dataframe\">\n",
       "  <thead>\n",
       "    <tr style=\"text-align: right;\">\n",
       "      <th></th>\n",
       "      <th>Date</th>\n",
       "      <th>Open</th>\n",
       "      <th>High</th>\n",
       "      <th>Low</th>\n",
       "      <th>Close</th>\n",
       "      <th>Volume (BTC)</th>\n",
       "      <th>Volume (Currency)</th>\n",
       "      <th>Weighted Price</th>\n",
       "    </tr>\n",
       "  </thead>\n",
       "  <tbody>\n",
       "    <tr>\n",
       "      <th>0</th>\n",
       "      <td>2011-09-13</td>\n",
       "      <td>5.80</td>\n",
       "      <td>6.00</td>\n",
       "      <td>5.65</td>\n",
       "      <td>5.97</td>\n",
       "      <td>58.371382</td>\n",
       "      <td>346.097389</td>\n",
       "      <td>5.929231</td>\n",
       "    </tr>\n",
       "    <tr>\n",
       "      <th>1</th>\n",
       "      <td>2011-09-14</td>\n",
       "      <td>5.58</td>\n",
       "      <td>5.72</td>\n",
       "      <td>5.52</td>\n",
       "      <td>5.53</td>\n",
       "      <td>61.145984</td>\n",
       "      <td>341.854813</td>\n",
       "      <td>5.590798</td>\n",
       "    </tr>\n",
       "    <tr>\n",
       "      <th>2</th>\n",
       "      <td>2011-09-15</td>\n",
       "      <td>5.12</td>\n",
       "      <td>5.24</td>\n",
       "      <td>5.00</td>\n",
       "      <td>5.13</td>\n",
       "      <td>80.140795</td>\n",
       "      <td>408.259002</td>\n",
       "      <td>5.094272</td>\n",
       "    </tr>\n",
       "    <tr>\n",
       "      <th>3</th>\n",
       "      <td>2011-09-16</td>\n",
       "      <td>4.82</td>\n",
       "      <td>4.87</td>\n",
       "      <td>4.80</td>\n",
       "      <td>4.85</td>\n",
       "      <td>39.914007</td>\n",
       "      <td>193.763147</td>\n",
       "      <td>4.854515</td>\n",
       "    </tr>\n",
       "    <tr>\n",
       "      <th>4</th>\n",
       "      <td>2011-09-17</td>\n",
       "      <td>4.87</td>\n",
       "      <td>4.87</td>\n",
       "      <td>4.87</td>\n",
       "      <td>4.87</td>\n",
       "      <td>0.300000</td>\n",
       "      <td>1.461000</td>\n",
       "      <td>4.870000</td>\n",
       "    </tr>\n",
       "  </tbody>\n",
       "</table>\n",
       "</div>"
      ],
      "text/plain": [
       "        Date  Open  High   Low  Close  Volume (BTC)  Volume (Currency)  \\\n",
       "0 2011-09-13  5.80  6.00  5.65   5.97     58.371382         346.097389   \n",
       "1 2011-09-14  5.58  5.72  5.52   5.53     61.145984         341.854813   \n",
       "2 2011-09-15  5.12  5.24  5.00   5.13     80.140795         408.259002   \n",
       "3 2011-09-16  4.82  4.87  4.80   4.85     39.914007         193.763147   \n",
       "4 2011-09-17  4.87  4.87  4.87   4.87      0.300000           1.461000   \n",
       "\n",
       "   Weighted Price  \n",
       "0        5.929231  \n",
       "1        5.590798  \n",
       "2        5.094272  \n",
       "3        4.854515  \n",
       "4        4.870000  "
      ]
     },
     "execution_count": 8,
     "metadata": {},
     "output_type": "execute_result"
    }
   ],
   "source": [
    "Data.head(5)"
   ]
  },
  {
   "cell_type": "code",
   "execution_count": 9,
   "id": "a719f520",
   "metadata": {},
   "outputs": [
    {
     "data": {
      "image/png": "[encoded data removed]",
      "text/plain": [
       "<Figure size 1008x504 with 1 Axes>"
      ]
     },
     "metadata": {
      "needs_background": "light"
     },
     "output_type": "display_data"
    }
   ],
   "source": [
    "fig=plt.figure(figsize=(14,7))\n",
    "plt.plot(Data['Date'], Data['Close'])\n",
    "plt.title('Bitcoin Price (Close)')\n",
    "plt.ylabel('Price');\n",
    "plt.xlabel('Time');\n",
    "plt.show()\n",
    "fig.savefig(\"btcev.png\")"
   ]
  },
  {
   "cell_type": "code",
   "execution_count": 10,
   "id": "543573f4",
   "metadata": {},
   "outputs": [],
   "source": [
    "\n",
    "# mask = (Data['Date'] >= '2014-12-01') \n",
    "# data = Data.loc[mask]\n",
    "data = Data.iloc[:,1:]\n",
    "data = data.astype('float32')"
   ]
  },
  {
   "cell_type": "code",
   "execution_count": 11,
   "id": "f7759a86",
   "metadata": {},
   "outputs": [
    {
     "data": {
      "text/html": [
       "<div>\n",
       "<style scoped>\n",
       "    .dataframe tbody tr th:only-of-type {\n",
       "        vertical-align: middle;\n",
       "    }\n",
       "\n",
       "    .dataframe tbody tr th {\n",
       "        vertical-align: top;\n",
       "    }\n",
       "\n",
       "    .dataframe thead th {\n",
       "        text-align: right;\n",
       "    }\n",
       "</style>\n",
       "<table border=\"1\" class=\"dataframe\">\n",
       "  <thead>\n",
       "    <tr style=\"text-align: right;\">\n",
       "      <th></th>\n",
       "      <th>Open</th>\n",
       "      <th>High</th>\n",
       "      <th>Low</th>\n",
       "      <th>Close</th>\n",
       "      <th>Volume (BTC)</th>\n",
       "      <th>Volume (Currency)</th>\n",
       "      <th>Weighted Price</th>\n",
       "    </tr>\n",
       "  </thead>\n",
       "  <tbody>\n",
       "    <tr>\n",
       "      <th>0</th>\n",
       "      <td>5.800000</td>\n",
       "      <td>6.000000</td>\n",
       "      <td>5.650000</td>\n",
       "      <td>5.970000</td>\n",
       "      <td>58.371384</td>\n",
       "      <td>3.460974e+02</td>\n",
       "      <td>5.929231</td>\n",
       "    </tr>\n",
       "    <tr>\n",
       "      <th>1</th>\n",
       "      <td>5.580000</td>\n",
       "      <td>5.720000</td>\n",
       "      <td>5.520000</td>\n",
       "      <td>5.530000</td>\n",
       "      <td>61.145985</td>\n",
       "      <td>3.418548e+02</td>\n",
       "      <td>5.590797</td>\n",
       "    </tr>\n",
       "    <tr>\n",
       "      <th>2</th>\n",
       "      <td>5.120000</td>\n",
       "      <td>5.240000</td>\n",
       "      <td>5.000000</td>\n",
       "      <td>5.130000</td>\n",
       "      <td>80.140793</td>\n",
       "      <td>4.082590e+02</td>\n",
       "      <td>5.094272</td>\n",
       "    </tr>\n",
       "    <tr>\n",
       "      <th>3</th>\n",
       "      <td>4.820000</td>\n",
       "      <td>4.870000</td>\n",
       "      <td>4.800000</td>\n",
       "      <td>4.850000</td>\n",
       "      <td>39.914005</td>\n",
       "      <td>1.937632e+02</td>\n",
       "      <td>4.854515</td>\n",
       "    </tr>\n",
       "    <tr>\n",
       "      <th>4</th>\n",
       "      <td>4.870000</td>\n",
       "      <td>4.870000</td>\n",
       "      <td>4.870000</td>\n",
       "      <td>4.870000</td>\n",
       "      <td>0.300000</td>\n",
       "      <td>1.461000e+00</td>\n",
       "      <td>4.870000</td>\n",
       "    </tr>\n",
       "    <tr>\n",
       "      <th>...</th>\n",
       "      <td>...</td>\n",
       "      <td>...</td>\n",
       "      <td>...</td>\n",
       "      <td>...</td>\n",
       "      <td>...</td>\n",
       "      <td>...</td>\n",
       "      <td>...</td>\n",
       "    </tr>\n",
       "    <tr>\n",
       "      <th>3545</th>\n",
       "      <td>35532.589844</td>\n",
       "      <td>36510.578125</td>\n",
       "      <td>35250.000000</td>\n",
       "      <td>35808.851562</td>\n",
       "      <td>2526.733643</td>\n",
       "      <td>9.074430e+07</td>\n",
       "      <td>35913.679688</td>\n",
       "    </tr>\n",
       "    <tr>\n",
       "      <th>3546</th>\n",
       "      <td>35810.691406</td>\n",
       "      <td>36808.300781</td>\n",
       "      <td>33321.089844</td>\n",
       "      <td>33582.621094</td>\n",
       "      <td>4913.040039</td>\n",
       "      <td>1.747388e+08</td>\n",
       "      <td>35566.339844</td>\n",
       "    </tr>\n",
       "    <tr>\n",
       "      <th>3547</th>\n",
       "      <td>33567.511719</td>\n",
       "      <td>34085.609375</td>\n",
       "      <td>31025.000000</td>\n",
       "      <td>33411.691406</td>\n",
       "      <td>9044.648438</td>\n",
       "      <td>2.954111e+08</td>\n",
       "      <td>32661.425781</td>\n",
       "    </tr>\n",
       "    <tr>\n",
       "      <th>3548</th>\n",
       "      <td>33413.191406</td>\n",
       "      <td>37556.250000</td>\n",
       "      <td>32423.720703</td>\n",
       "      <td>37400.000000</td>\n",
       "      <td>8539.586914</td>\n",
       "      <td>3.003795e+08</td>\n",
       "      <td>35174.945312</td>\n",
       "    </tr>\n",
       "    <tr>\n",
       "      <th>3549</th>\n",
       "      <td>37414.640625</td>\n",
       "      <td>38446.238281</td>\n",
       "      <td>35824.691406</td>\n",
       "      <td>36893.890625</td>\n",
       "      <td>5667.253906</td>\n",
       "      <td>2.103699e+08</td>\n",
       "      <td>37120.246094</td>\n",
       "    </tr>\n",
       "  </tbody>\n",
       "</table>\n",
       "<p>3550 rows × 7 columns</p>\n",
       "</div>"
      ],
      "text/plain": [
       "              Open          High           Low         Close  Volume (BTC)  \\\n",
       "0         5.800000      6.000000      5.650000      5.970000     58.371384   \n",
       "1         5.580000      5.720000      5.520000      5.530000     61.145985   \n",
       "2         5.120000      5.240000      5.000000      5.130000     80.140793   \n",
       "3         4.820000      4.870000      4.800000      4.850000     39.914005   \n",
       "4         4.870000      4.870000      4.870000      4.870000      0.300000   \n",
       "...            ...           ...           ...           ...           ...   \n",
       "3545  35532.589844  36510.578125  35250.000000  35808.851562   2526.733643   \n",
       "3546  35810.691406  36808.300781  33321.089844  33582.621094   4913.040039   \n",
       "3547  33567.511719  34085.609375  31025.000000  33411.691406   9044.648438   \n",
       "3548  33413.191406  37556.250000  32423.720703  37400.000000   8539.586914   \n",
       "3549  37414.640625  38446.238281  35824.691406  36893.890625   5667.253906   \n",
       "\n",
       "      Volume (Currency)  Weighted Price  \n",
       "0          3.460974e+02        5.929231  \n",
       "1          3.418548e+02        5.590797  \n",
       "2          4.082590e+02        5.094272  \n",
       "3          1.937632e+02        4.854515  \n",
       "4          1.461000e+00        4.870000  \n",
       "...                 ...             ...  \n",
       "3545       9.074430e+07    35913.679688  \n",
       "3546       1.747388e+08    35566.339844  \n",
       "3547       2.954111e+08    32661.425781  \n",
       "3548       3.003795e+08    35174.945312  \n",
       "3549       2.103699e+08    37120.246094  \n",
       "\n",
       "[3550 rows x 7 columns]"
      ]
     },
     "execution_count": 11,
     "metadata": {},
     "output_type": "execute_result"
    }
   ],
   "source": [
    "data"
   ]
  },
  {
   "cell_type": "code",
   "execution_count": 12,
   "id": "0ec154d4",
   "metadata": {},
   "outputs": [],
   "source": [
    "n_samples = data.shape[0]"
   ]
  },
  {
   "cell_type": "code",
   "execution_count": 13,
   "id": "379c07c5",
   "metadata": {},
   "outputs": [
    {
     "data": {
      "text/html": [
       "<div>\n",
       "<style scoped>\n",
       "    .dataframe tbody tr th:only-of-type {\n",
       "        vertical-align: middle;\n",
       "    }\n",
       "\n",
       "    .dataframe tbody tr th {\n",
       "        vertical-align: top;\n",
       "    }\n",
       "\n",
       "    .dataframe thead th {\n",
       "        text-align: right;\n",
       "    }\n",
       "</style>\n",
       "<table border=\"1\" class=\"dataframe\">\n",
       "  <thead>\n",
       "    <tr style=\"text-align: right;\">\n",
       "      <th></th>\n",
       "      <th>Open</th>\n",
       "      <th>High</th>\n",
       "      <th>Low</th>\n",
       "      <th>Close</th>\n",
       "      <th>Volume (BTC)</th>\n",
       "      <th>Volume (Currency)</th>\n",
       "      <th>Weighted Price</th>\n",
       "    </tr>\n",
       "  </thead>\n",
       "  <tbody>\n",
       "    <tr>\n",
       "      <th>count</th>\n",
       "      <td>3550.000000</td>\n",
       "      <td>3550.000000</td>\n",
       "      <td>3550.000000</td>\n",
       "      <td>3550.000000</td>\n",
       "      <td>3550.000000</td>\n",
       "      <td>3.550000e+03</td>\n",
       "      <td>3550.000000</td>\n",
       "    </tr>\n",
       "    <tr>\n",
       "      <th>mean</th>\n",
       "      <td>5293.827637</td>\n",
       "      <td>5460.398926</td>\n",
       "      <td>5099.628906</td>\n",
       "      <td>5300.630371</td>\n",
       "      <td>9565.018555</td>\n",
       "      <td>4.656405e+07</td>\n",
       "      <td>5287.246094</td>\n",
       "    </tr>\n",
       "    <tr>\n",
       "      <th>std</th>\n",
       "      <td>10244.411133</td>\n",
       "      <td>10583.008789</td>\n",
       "      <td>9829.693359</td>\n",
       "      <td>10248.045898</td>\n",
       "      <td>9989.736328</td>\n",
       "      <td>9.358006e+07</td>\n",
       "      <td>10229.674805</td>\n",
       "    </tr>\n",
       "    <tr>\n",
       "      <th>min</th>\n",
       "      <td>0.000000</td>\n",
       "      <td>0.000000</td>\n",
       "      <td>0.000000</td>\n",
       "      <td>0.000000</td>\n",
       "      <td>0.000000</td>\n",
       "      <td>0.000000e+00</td>\n",
       "      <td>0.000000</td>\n",
       "    </tr>\n",
       "    <tr>\n",
       "      <th>25%</th>\n",
       "      <td>235.337505</td>\n",
       "      <td>238.834999</td>\n",
       "      <td>230.955002</td>\n",
       "      <td>235.607506</td>\n",
       "      <td>3641.451660</td>\n",
       "      <td>1.560178e+06</td>\n",
       "      <td>235.218033</td>\n",
       "    </tr>\n",
       "    <tr>\n",
       "      <th>50%</th>\n",
       "      <td>669.330017</td>\n",
       "      <td>684.144989</td>\n",
       "      <td>651.015015</td>\n",
       "      <td>671.119995</td>\n",
       "      <td>6935.980225</td>\n",
       "      <td>7.472516e+06</td>\n",
       "      <td>665.240967</td>\n",
       "    </tr>\n",
       "    <tr>\n",
       "      <th>75%</th>\n",
       "      <td>7335.032593</td>\n",
       "      <td>7521.344971</td>\n",
       "      <td>7150.000000</td>\n",
       "      <td>7343.489990</td>\n",
       "      <td>12232.375488</td>\n",
       "      <td>5.204943e+07</td>\n",
       "      <td>7319.430420</td>\n",
       "    </tr>\n",
       "    <tr>\n",
       "      <th>max</th>\n",
       "      <td>63605.691406</td>\n",
       "      <td>64895.218750</td>\n",
       "      <td>61998.898438</td>\n",
       "      <td>63564.480469</td>\n",
       "      <td>137070.171875</td>\n",
       "      <td>1.369434e+09</td>\n",
       "      <td>63314.687500</td>\n",
       "    </tr>\n",
       "  </tbody>\n",
       "</table>\n",
       "</div>"
      ],
      "text/plain": [
       "               Open          High           Low         Close   Volume (BTC)  \\\n",
       "count   3550.000000   3550.000000   3550.000000   3550.000000    3550.000000   \n",
       "mean    5293.827637   5460.398926   5099.628906   5300.630371    9565.018555   \n",
       "std    10244.411133  10583.008789   9829.693359  10248.045898    9989.736328   \n",
       "min        0.000000      0.000000      0.000000      0.000000       0.000000   \n",
       "25%      235.337505    238.834999    230.955002    235.607506    3641.451660   \n",
       "50%      669.330017    684.144989    651.015015    671.119995    6935.980225   \n",
       "75%     7335.032593   7521.344971   7150.000000   7343.489990   12232.375488   \n",
       "max    63605.691406  64895.218750  61998.898438  63564.480469  137070.171875   \n",
       "\n",
       "       Volume (Currency)  Weighted Price  \n",
       "count       3.550000e+03     3550.000000  \n",
       "mean        4.656405e+07     5287.246094  \n",
       "std         9.358006e+07    10229.674805  \n",
       "min         0.000000e+00        0.000000  \n",
       "25%         1.560178e+06      235.218033  \n",
       "50%         7.472516e+06      665.240967  \n",
       "75%         5.204943e+07     7319.430420  \n",
       "max         1.369434e+09    63314.687500  "
      ]
     },
     "execution_count": 13,
     "metadata": {},
     "output_type": "execute_result"
    }
   ],
   "source": [
    "data.describe()"
   ]
  },
  {
   "cell_type": "code",
   "execution_count": 14,
   "id": "d53f9293",
   "metadata": {},
   "outputs": [
    {
     "data": {
      "text/plain": [
       "<AxesSubplot:title={'center':'Correlation entre les variables'}>"
      ]
     },
     "execution_count": 14,
     "metadata": {},
     "output_type": "execute_result"
    },
    {
     "data": {
      "image/png": "[encoded data removed]",
      "text/plain": [
       "<Figure size 504x504 with 2 Axes>"
      ]
     },
     "metadata": {},
     "output_type": "display_data"
    }
   ],
   "source": [
    "fig=plt.figure(figsize=(7,7))\n",
    "fig.patch.set_facecolor('#E0E0E0')\n",
    "fig.patch.set_alpha(0.7)\n",
    "plt.title(\"Correlation entre les variables\",size=18)\n",
    "sns.heatmap(data.corr(),square= True, fmt='.1f',annot=True, annot_kws={'size':15},cmap=\"bwr\")"
   ]
  },
  {
   "cell_type": "markdown",
   "id": "b70073af",
   "metadata": {},
   "source": [
    "## Trading indicatiors"
   ]
  },
  {
   "cell_type": "markdown",
   "id": "236c6cde",
   "metadata": {},
   "source": [
    "#### MACD INDICATOR"
   ]
  },
  {
   "cell_type": "code",
   "execution_count": 15,
   "id": "1fd78d29",
   "metadata": {},
   "outputs": [],
   "source": [
    "def MACD(df):\n",
    "    EMA12 = pd.DataFrame.ewm(df,span=12).mean()\n",
    "    EMA26 = pd.DataFrame.ewm(df,span=26).mean()\n",
    "    MACD  = EMA12 - EMA26\n",
    "    \n",
    "    Signal = pd.DataFrame.ewm(MACD,span=9).mean()\n",
    "    \n",
    "    Macd_Hist = MACD-Signal\n",
    "    \n",
    "    return Macd_Hist , MACD , Signal\n",
    "    "
   ]
  },
  {
   "cell_type": "code",
   "execution_count": 16,
   "id": "b58204b7",
   "metadata": {},
   "outputs": [],
   "source": [
    "MACD_hist , MACD , Signal =MACD(data[\"Close\"])"
   ]
  },
  {
   "cell_type": "code",
   "execution_count": 17,
   "id": "24e14cc0",
   "metadata": {},
   "outputs": [
    {
     "data": {
      "image/png": "[encoded data removed]",
      "text/plain": [
       "<Figure size 1440x504 with 1 Axes>"
      ]
     },
     "metadata": {
      "needs_background": "light"
     },
     "output_type": "display_data"
    }
   ],
   "source": [
    "plt.figure(figsize=(20,7))\n",
    "plt.plot(Data['Date'].iloc[len(MACD_hist)-360 : len(MACD_hist)], MACD_hist[len(MACD_hist)-360 : len(MACD_hist)],color='b', label='Histogram')\n",
    "plt.plot(Data['Date'].iloc[len(MACD_hist)-360 : len(MACD_hist)], MACD[len(MACD_hist)-360 : len(MACD_hist)],color='g', label='MACD')\n",
    "plt.plot(Data['Date'].iloc[len(MACD_hist)-360 : len(MACD_hist)], Signal[len(MACD_hist)-360 : len(MACD_hist)],color='r', label='Signal')\n",
    "plt.xlabel('days')\n",
    "plt.legend()\n",
    "plt.title(\"[06-2020:06-2021] MACD plot \")\n",
    "plt.show()"
   ]
  },
  {
   "cell_type": "markdown",
   "id": "bc51f978",
   "metadata": {},
   "source": [
    "####  Stochastics Oscillator"
   ]
  },
  {
   "cell_type": "code",
   "execution_count": 18,
   "id": "59fb8b57",
   "metadata": {},
   "outputs": [],
   "source": [
    "def Stoch_Oscillator(df):\n",
    "    L14 = df['Low'].rolling(14).min()\n",
    "    H14 = df['High'].rolling(14).max()\n",
    "    K   =  (df['Close']- L14)*100/(H14 - L14)\n",
    "    return K\n",
    "    "
   ]
  },
  {
   "cell_type": "code",
   "execution_count": 19,
   "id": "760ad05c",
   "metadata": {},
   "outputs": [],
   "source": [
    "K=Stoch_Oscillator(data)"
   ]
  },
  {
   "cell_type": "code",
   "execution_count": 20,
   "id": "0cf499ba",
   "metadata": {},
   "outputs": [
    {
     "data": {
      "image/png": "[encoded data removed]",
      "text/plain": [
       "<Figure size 1440x504 with 1 Axes>"
      ]
     },
     "metadata": {
      "needs_background": "light"
     },
     "output_type": "display_data"
    }
   ],
   "source": [
    "plt.figure(figsize=(20,7))\n",
    "plt.plot(Data['Date'].iloc[len(MACD_hist)-100 : len(MACD_hist)], K[len(MACD_hist)-100 : len(MACD_hist)],color='b', label='%K : Stochastics oscillator ')\n",
    "plt.xlabel('days')\n",
    "plt.legend()\n",
    "plt.title(\"Last 100 days %K plot \")\n",
    "plt.show()"
   ]
  },
  {
   "cell_type": "markdown",
   "id": "58c753c8",
   "metadata": {},
   "source": [
    "#### Average true range"
   ]
  },
  {
   "cell_type": "code",
   "execution_count": 21,
   "id": "3bced340",
   "metadata": {},
   "outputs": [],
   "source": [
    "def Average_T_range(df):\n",
    "    HL = df['High']-df['Low']\n",
    "    HC = np.abs(df['High']-df['Close'].shift())\n",
    "    LC =  np.abs(df['Low']-df['Close'].shift())\n",
    "    ct = pd.concat([HL,HC,LC],axis=1)\n",
    "    Tr = np.max(ct,axis=1) \n",
    "    ATR = Tr.rolling(14).mean()\n",
    "    return ATR"
   ]
  },
  {
   "cell_type": "code",
   "execution_count": 22,
   "id": "a040e347",
   "metadata": {},
   "outputs": [],
   "source": [
    "atr = Average_T_range(data)"
   ]
  },
  {
   "cell_type": "code",
   "execution_count": 23,
   "id": "79322ddc",
   "metadata": {},
   "outputs": [
    {
     "data": {
      "image/png": "[encoded data removed]",
      "text/plain": [
       "<Figure size 1440x504 with 1 Axes>"
      ]
     },
     "metadata": {
      "needs_background": "light"
     },
     "output_type": "display_data"
    }
   ],
   "source": [
    "plt.figure(figsize=(20,7))\n",
    "plt.plot(atr[0:100],label='ATR',color='green')\n",
    "plt.title('Average True Range')\n",
    "plt.legend()\n",
    "plt.show()"
   ]
  },
  {
   "cell_type": "markdown",
   "id": "d21f3a26",
   "metadata": {},
   "source": [
    "### Getting final  data"
   ]
  },
  {
   "cell_type": "code",
   "execution_count": 24,
   "id": "34389d95",
   "metadata": {},
   "outputs": [],
   "source": [
    "data['MACD']= MACD_hist\n",
    "data['%K']=K\n",
    "data['ATR']=atr\n",
    "data['Close Target'] = data['Close'].shift(-1)"
   ]
  },
  {
   "cell_type": "code",
   "execution_count": 25,
   "id": "9d958817",
   "metadata": {},
   "outputs": [],
   "source": [
    "df = data[['Open','High','Low','Close','Volume (BTC)','Volume (Currency)','Weighted Price','MACD','%K','ATR','Close Target']]"
   ]
  },
  {
   "cell_type": "code",
   "execution_count": 26,
   "id": "18de8b4f",
   "metadata": {},
   "outputs": [
    {
     "data": {
      "text/html": [
       "<div>\n",
       "<style scoped>\n",
       "    .dataframe tbody tr th:only-of-type {\n",
       "        vertical-align: middle;\n",
       "    }\n",
       "\n",
       "    .dataframe tbody tr th {\n",
       "        vertical-align: top;\n",
       "    }\n",
       "\n",
       "    .dataframe thead th {\n",
       "        text-align: right;\n",
       "    }\n",
       "</style>\n",
       "<table border=\"1\" class=\"dataframe\">\n",
       "  <thead>\n",
       "    <tr style=\"text-align: right;\">\n",
       "      <th></th>\n",
       "      <th>Open</th>\n",
       "      <th>High</th>\n",
       "      <th>Low</th>\n",
       "      <th>Close</th>\n",
       "      <th>Volume (BTC)</th>\n",
       "      <th>Volume (Currency)</th>\n",
       "      <th>Weighted Price</th>\n",
       "      <th>MACD</th>\n",
       "      <th>%K</th>\n",
       "      <th>ATR</th>\n",
       "      <th>Close Target</th>\n",
       "    </tr>\n",
       "  </thead>\n",
       "  <tbody>\n",
       "    <tr>\n",
       "      <th>0</th>\n",
       "      <td>5.80</td>\n",
       "      <td>6.00</td>\n",
       "      <td>5.65</td>\n",
       "      <td>5.97</td>\n",
       "      <td>58.371384</td>\n",
       "      <td>346.097382</td>\n",
       "      <td>5.929231</td>\n",
       "      <td>0.000000</td>\n",
       "      <td>NaN</td>\n",
       "      <td>NaN</td>\n",
       "      <td>5.53</td>\n",
       "    </tr>\n",
       "    <tr>\n",
       "      <th>1</th>\n",
       "      <td>5.58</td>\n",
       "      <td>5.72</td>\n",
       "      <td>5.52</td>\n",
       "      <td>5.53</td>\n",
       "      <td>61.145985</td>\n",
       "      <td>341.854828</td>\n",
       "      <td>5.590797</td>\n",
       "      <td>-0.004387</td>\n",
       "      <td>NaN</td>\n",
       "      <td>NaN</td>\n",
       "      <td>5.13</td>\n",
       "    </tr>\n",
       "    <tr>\n",
       "      <th>2</th>\n",
       "      <td>5.12</td>\n",
       "      <td>5.24</td>\n",
       "      <td>5.00</td>\n",
       "      <td>5.13</td>\n",
       "      <td>80.140793</td>\n",
       "      <td>408.259003</td>\n",
       "      <td>5.094272</td>\n",
       "      <td>-0.011507</td>\n",
       "      <td>NaN</td>\n",
       "      <td>NaN</td>\n",
       "      <td>4.85</td>\n",
       "    </tr>\n",
       "    <tr>\n",
       "      <th>3</th>\n",
       "      <td>4.82</td>\n",
       "      <td>4.87</td>\n",
       "      <td>4.80</td>\n",
       "      <td>4.85</td>\n",
       "      <td>39.914005</td>\n",
       "      <td>193.763153</td>\n",
       "      <td>4.854515</td>\n",
       "      <td>-0.018434</td>\n",
       "      <td>NaN</td>\n",
       "      <td>NaN</td>\n",
       "      <td>4.87</td>\n",
       "    </tr>\n",
       "    <tr>\n",
       "      <th>4</th>\n",
       "      <td>4.87</td>\n",
       "      <td>4.87</td>\n",
       "      <td>4.87</td>\n",
       "      <td>4.87</td>\n",
       "      <td>0.300000</td>\n",
       "      <td>1.461000</td>\n",
       "      <td>4.870000</td>\n",
       "      <td>-0.018028</td>\n",
       "      <td>NaN</td>\n",
       "      <td>NaN</td>\n",
       "      <td>4.92</td>\n",
       "    </tr>\n",
       "  </tbody>\n",
       "</table>\n",
       "</div>"
      ],
      "text/plain": [
       "   Open  High   Low  Close  Volume (BTC)  Volume (Currency)  Weighted Price  \\\n",
       "0  5.80  6.00  5.65   5.97     58.371384         346.097382        5.929231   \n",
       "1  5.58  5.72  5.52   5.53     61.145985         341.854828        5.590797   \n",
       "2  5.12  5.24  5.00   5.13     80.140793         408.259003        5.094272   \n",
       "3  4.82  4.87  4.80   4.85     39.914005         193.763153        4.854515   \n",
       "4  4.87  4.87  4.87   4.87      0.300000           1.461000        4.870000   \n",
       "\n",
       "       MACD  %K  ATR  Close Target  \n",
       "0  0.000000 NaN  NaN          5.53  \n",
       "1 -0.004387 NaN  NaN          5.13  \n",
       "2 -0.011507 NaN  NaN          4.85  \n",
       "3 -0.018434 NaN  NaN          4.87  \n",
       "4 -0.018028 NaN  NaN          4.92  "
      ]
     },
     "execution_count": 26,
     "metadata": {},
     "output_type": "execute_result"
    }
   ],
   "source": [
    "df.head()"
   ]
  },
  {
   "cell_type": "code",
   "execution_count": 27,
   "id": "94620e19",
   "metadata": {},
   "outputs": [],
   "source": [
    "df=df.dropna()"
   ]
  },
  {
   "cell_type": "code",
   "execution_count": 28,
   "id": "28adb21e",
   "metadata": {},
   "outputs": [
    {
     "data": {
      "text/html": [
       "<div>\n",
       "<style scoped>\n",
       "    .dataframe tbody tr th:only-of-type {\n",
       "        vertical-align: middle;\n",
       "    }\n",
       "\n",
       "    .dataframe tbody tr th {\n",
       "        vertical-align: top;\n",
       "    }\n",
       "\n",
       "    .dataframe thead th {\n",
       "        text-align: right;\n",
       "    }\n",
       "</style>\n",
       "<table border=\"1\" class=\"dataframe\">\n",
       "  <thead>\n",
       "    <tr style=\"text-align: right;\">\n",
       "      <th></th>\n",
       "      <th>Open</th>\n",
       "      <th>High</th>\n",
       "      <th>Low</th>\n",
       "      <th>Close</th>\n",
       "      <th>Volume (BTC)</th>\n",
       "      <th>Volume (Currency)</th>\n",
       "      <th>Weighted Price</th>\n",
       "      <th>MACD</th>\n",
       "      <th>%K</th>\n",
       "      <th>ATR</th>\n",
       "      <th>Close Target</th>\n",
       "    </tr>\n",
       "  </thead>\n",
       "  <tbody>\n",
       "    <tr>\n",
       "      <th>13</th>\n",
       "      <td>6.06</td>\n",
       "      <td>6.06</td>\n",
       "      <td>4.80</td>\n",
       "      <td>4.80</td>\n",
       "      <td>39.578465</td>\n",
       "      <td>236.800858</td>\n",
       "      <td>5.983074</td>\n",
       "      <td>-0.000551</td>\n",
       "      <td>0.000000</td>\n",
       "      <td>0.320714</td>\n",
       "      <td>4.92</td>\n",
       "    </tr>\n",
       "    <tr>\n",
       "      <th>14</th>\n",
       "      <td>4.85</td>\n",
       "      <td>4.92</td>\n",
       "      <td>4.85</td>\n",
       "      <td>4.92</td>\n",
       "      <td>24.354500</td>\n",
       "      <td>119.225060</td>\n",
       "      <td>4.895401</td>\n",
       "      <td>-0.027334</td>\n",
       "      <td>9.523802</td>\n",
       "      <td>0.304286</td>\n",
       "      <td>4.82</td>\n",
       "    </tr>\n",
       "    <tr>\n",
       "      <th>15</th>\n",
       "      <td>4.90</td>\n",
       "      <td>4.91</td>\n",
       "      <td>4.82</td>\n",
       "      <td>4.82</td>\n",
       "      <td>83.053329</td>\n",
       "      <td>403.846619</td>\n",
       "      <td>4.862498</td>\n",
       "      <td>-0.046902</td>\n",
       "      <td>1.587300</td>\n",
       "      <td>0.279286</td>\n",
       "      <td>4.82</td>\n",
       "    </tr>\n",
       "    <tr>\n",
       "      <th>16</th>\n",
       "      <td>4.81</td>\n",
       "      <td>4.82</td>\n",
       "      <td>4.81</td>\n",
       "      <td>4.82</td>\n",
       "      <td>46.964500</td>\n",
       "      <td>226.197220</td>\n",
       "      <td>4.816345</td>\n",
       "      <td>-0.056163</td>\n",
       "      <td>1.587300</td>\n",
       "      <td>0.242143</td>\n",
       "      <td>0.00</td>\n",
       "    </tr>\n",
       "    <tr>\n",
       "      <th>17</th>\n",
       "      <td>0.00</td>\n",
       "      <td>0.00</td>\n",
       "      <td>0.00</td>\n",
       "      <td>0.00</td>\n",
       "      <td>0.000000</td>\n",
       "      <td>0.000000</td>\n",
       "      <td>0.000000</td>\n",
       "      <td>-0.300575</td>\n",
       "      <td>0.000000</td>\n",
       "      <td>0.562857</td>\n",
       "      <td>0.00</td>\n",
       "    </tr>\n",
       "  </tbody>\n",
       "</table>\n",
       "</div>"
      ],
      "text/plain": [
       "    Open  High   Low  Close  Volume (BTC)  Volume (Currency)  Weighted Price  \\\n",
       "13  6.06  6.06  4.80   4.80     39.578465         236.800858        5.983074   \n",
       "14  4.85  4.92  4.85   4.92     24.354500         119.225060        4.895401   \n",
       "15  4.90  4.91  4.82   4.82     83.053329         403.846619        4.862498   \n",
       "16  4.81  4.82  4.81   4.82     46.964500         226.197220        4.816345   \n",
       "17  0.00  0.00  0.00   0.00      0.000000           0.000000        0.000000   \n",
       "\n",
       "        MACD        %K       ATR  Close Target  \n",
       "13 -0.000551  0.000000  0.320714          4.92  \n",
       "14 -0.027334  9.523802  0.304286          4.82  \n",
       "15 -0.046902  1.587300  0.279286          4.82  \n",
       "16 -0.056163  1.587300  0.242143          0.00  \n",
       "17 -0.300575  0.000000  0.562857          0.00  "
      ]
     },
     "execution_count": 28,
     "metadata": {},
     "output_type": "execute_result"
    }
   ],
   "source": [
    "df.head()"
   ]
  },
  {
   "cell_type": "markdown",
   "id": "46b41b97",
   "metadata": {},
   "source": [
    "## Normalize data"
   ]
  },
  {
   "cell_type": "code",
   "execution_count": 29,
   "id": "aa7f5045",
   "metadata": {},
   "outputs": [],
   "source": [
    "scaler = MinMaxScaler(feature_range=(0, 1))\n",
    "\n",
    "df = df.drop(['Open','High','Low','Volume (BTC)','Volume (Currency)','Weighted Price'], axis=1)\n",
    "df.head()\n",
    "df = scaler.fit_transform(df)\n",
    "df = pd.DataFrame(df)\n"
   ]
  },
  {
   "cell_type": "markdown",
   "id": "1fbbad43",
   "metadata": {},
   "source": [
    "## Initialize Model"
   ]
  },
  {
   "cell_type": "code",
   "execution_count": 30,
   "id": "9304042d",
   "metadata": {},
   "outputs": [],
   "source": [
    "import numpy as np\n",
    "from sklearn.metrics import mean_squared_error\n",
    "import tensorflow as tf\n",
    "from tensorflow.keras.models import Sequential\n",
    "from tensorflow.keras.layers import Dense\n",
    "from tensorflow.keras.layers import LSTM\n",
    "from sklearn.metrics import mean_squared_error\n",
    "from tensorflow.keras import layers\n"
   ]
  },
  {
   "cell_type": "code",
   "execution_count": 31,
   "id": "533ff8da",
   "metadata": {},
   "outputs": [],
   "source": [
    "def model(hp):\n",
    "    model = Sequential()\n",
    "    model.add(layers.LSTM(units=hp.Int('units_input', 80, 120, step=10), return_sequences = True ,input_shape=(X_train.shape[1], X_train.shape[2])))\n",
    "    model.add(layers.Dropout(hp.Float('dropout_input', 0, 0.5, step=0.1, default=0.2)))\n",
    "    n=hp.Int('number of hidden layers',2,6)\n",
    "    for i in range(n):\n",
    "        if i < n-1 :\n",
    "            model.add(layers.LSTM(units=hp.Int('units_{0}'.format(i), 50, 90, step=10), return_sequences = True ))\n",
    "            model.add(layers.Dropout(hp.Float('dropout_{0}'.format(i), 0, 0.5, step=0.1, default=0.2)))\n",
    "        else : \n",
    "            model.add(layers.LSTM(units=hp.Int('units_{0}'.format(n-1), 50, 90, step=10)))\n",
    "            model.add(layers.Dropout(hp.Float('dropout_{0}'.format(n-1), 0, 0.5, step=0.1, default=0.2)))\n",
    "    model.add(layers.Dense(1))\n",
    "    model.add(layers.Activation('linear'))\n",
    "    \n",
    "    model.compile(loss='mae',optimizer=tf.keras.optimizers.Adam(\n",
    "                hp.Float(\n",
    "                    'learning_rate',\n",
    "                    min_value=1e-6,\n",
    "                    max_value=1e-2,\n",
    "                    sampling='LOG',\n",
    "                    default=1e-3\n",
    "                )\n",
    "            ),metrics='mse')\n",
    "\n",
    "    return model\n",
    "\n",
    "\n"
   ]
  },
  {
   "cell_type": "markdown",
   "id": "cec3f77d",
   "metadata": {},
   "source": [
    "###  Creating time series data\n"
   ]
  },
  {
   "cell_type": "code",
   "execution_count": 32,
   "id": "c5f113ee",
   "metadata": {},
   "outputs": [],
   "source": [
    "from sklearn.model_selection import train_test_split\n",
    "X=df.iloc[:,0:df.shape[1]-1]\n",
    "y=df.iloc[:,-1]\n",
    "X_train , X_test , y_train , y_test = train_test_split(X,y,test_size=0.2,shuffle=False)"
   ]
  },
  {
   "cell_type": "code",
   "execution_count": 33,
   "id": "177049a7",
   "metadata": {},
   "outputs": [],
   "source": [
    "# timesteps data\n",
    "def create_dataset(X,y,time_steps=1):\n",
    "    X_train=[]\n",
    "    y_train=[]\n",
    "    for i in range(time_steps,X.shape[0]):\n",
    "        X_train.append(X[i-time_steps:i])\n",
    "        y_train.append(y[i])\n",
    "    X_train = np.array(X_train)\n",
    "    y_train = np.array(y_train)\n",
    "    return X_train , y_train"
   ]
  },
  {
   "cell_type": "code",
   "execution_count": 34,
   "id": "ccb0b626",
   "metadata": {},
   "outputs": [],
   "source": [
    "def test_set(X_train,X_test,y_train,y_test,time_steps=1):\n",
    "    x=X_train.tail(time_steps)\n",
    "    y= y_train.tail(time_steps)\n",
    "    X_test=x.append(X_test,ignore_index=True)\n",
    "    y_test=y.append(y_test,ignore_index=True)\n",
    "    return create_dataset(X_test,y_test)"
   ]
  },
  {
   "cell_type": "code",
   "execution_count": 35,
   "id": "0c276a09",
   "metadata": {},
   "outputs": [],
   "source": [
    "X_test , y_test = test_set(X_train,X_test,y_train,y_test)"
   ]
  },
  {
   "cell_type": "code",
   "execution_count": 36,
   "id": "69a3858e",
   "metadata": {},
   "outputs": [],
   "source": [
    "X_train,y_train = create_dataset(X_train,y_train)\n"
   ]
  },
  {
   "cell_type": "markdown",
   "id": "0ddc7d7d",
   "metadata": {},
   "source": [
    "#### Hyper-Parameters tuning"
   ]
  },
  {
   "cell_type": "code",
   "execution_count": 37,
   "id": "e77b4835",
   "metadata": {},
   "outputs": [
    {
     "name": "stdout",
     "output_type": "stream",
     "text": [
      "INFO:tensorflow:Reloading Oracle from existing project .\\LSTM-hyper-parameters2\\oracle.json\n",
      "INFO:tensorflow:Reloading Tuner from .\\LSTM-hyper-parameters2\\tuner0.json\n"
     ]
    }
   ],
   "source": [
    "import kerastuner as kt\n",
    "\n",
    "tuner = kt.Hyperband( model,\n",
    "    objective='val_loss',\n",
    "    max_epochs=30,\n",
    "    hyperband_iterations=2,project_name='LSTM-hyper-parameters2')"
   ]
  },
  {
   "cell_type": "code",
   "execution_count": 38,
   "id": "613b2bc6",
   "metadata": {},
   "outputs": [
    {
     "name": "stdout",
     "output_type": "stream",
     "text": [
      "INFO:tensorflow:Oracle triggered exit\n"
     ]
    }
   ],
   "source": [
    "tuner.search(X_train,  y_train , epochs = 20,validation_data=(X_test,y_test),shuffle = False)"
   ]
  },
  {
   "cell_type": "markdown",
   "id": "ca6b0960",
   "metadata": {},
   "source": [
    "###  Fitting the model"
   ]
  },
  {
   "cell_type": "code",
   "execution_count": 39,
   "id": "685bef69",
   "metadata": {},
   "outputs": [
    {
     "name": "stdout",
     "output_type": "stream",
     "text": [
      "Epoch 1/100\n",
      "100/100 [==============================] - 7s 16ms/step - loss: 0.0827 - mse: 0.0271 - val_loss: 0.0746 - val_mse: 0.0218\n",
      "Epoch 2/100\n",
      "100/100 [==============================] - 0s 4ms/step - loss: 0.0787 - mse: 0.0253 - val_loss: 0.0731 - val_mse: 0.0201\n",
      "Epoch 3/100\n",
      "100/100 [==============================] - 0s 4ms/step - loss: 0.0756 - mse: 0.0221 - val_loss: 0.0699 - val_mse: 0.0169\n",
      "Epoch 4/100\n",
      "100/100 [==============================] - 0s 4ms/step - loss: 0.0665 - mse: 0.0148 - val_loss: 0.0622 - val_mse: 0.0097\n",
      "Epoch 5/100\n",
      "100/100 [==============================] - 0s 4ms/step - loss: 0.0373 - mse: 0.0027 - val_loss: 0.0735 - val_mse: 0.0064\n",
      "Epoch 6/100\n",
      "100/100 [==============================] - 0s 4ms/step - loss: 0.0453 - mse: 0.0037 - val_loss: 0.0668 - val_mse: 0.0054\n",
      "Epoch 7/100\n",
      "100/100 [==============================] - 0s 4ms/step - loss: 0.0387 - mse: 0.0032 - val_loss: 0.0507 - val_mse: 0.0033\n",
      "Epoch 8/100\n",
      "100/100 [==============================] - 0s 4ms/step - loss: 0.0300 - mse: 0.0020 - val_loss: 0.0615 - val_mse: 0.0045\n",
      "Epoch 9/100\n",
      "100/100 [==============================] - 0s 5ms/step - loss: 0.0331 - mse: 0.0025 - val_loss: 0.0455 - val_mse: 0.0026\n",
      "Epoch 10/100\n",
      "100/100 [==============================] - 0s 5ms/step - loss: 0.0257 - mse: 0.0017 - val_loss: 0.0524 - val_mse: 0.0033\n",
      "Epoch 11/100\n",
      "100/100 [==============================] - 0s 4ms/step - loss: 0.0271 - mse: 0.0018 - val_loss: 0.0400 - val_mse: 0.0020\n",
      "Epoch 12/100\n",
      "100/100 [==============================] - 0s 4ms/step - loss: 0.0216 - mse: 0.0014 - val_loss: 0.0419 - val_mse: 0.0022\n",
      "Epoch 13/100\n",
      "100/100 [==============================] - 0s 4ms/step - loss: 0.0218 - mse: 0.0014 - val_loss: 0.0353 - val_mse: 0.0016\n",
      "Epoch 14/100\n",
      "100/100 [==============================] - 0s 4ms/step - loss: 0.0189 - mse: 0.0012 - val_loss: 0.0332 - val_mse: 0.0014\n",
      "Epoch 15/100\n",
      "100/100 [==============================] - 0s 4ms/step - loss: 0.0180 - mse: 0.0011 - val_loss: 0.0309 - val_mse: 0.0013\n",
      "Epoch 16/100\n",
      "100/100 [==============================] - 0s 5ms/step - loss: 0.0170 - mse: 9.8297e-04 - val_loss: 0.0332 - val_mse: 0.0014\n",
      "Epoch 17/100\n",
      "100/100 [==============================] - 0s 5ms/step - loss: 0.0178 - mse: 0.0011 - val_loss: 0.0299 - val_mse: 0.0012\n",
      "Epoch 18/100\n",
      "100/100 [==============================] - 0s 4ms/step - loss: 0.0164 - mse: 0.0011 - val_loss: 0.0254 - val_mse: 8.8893e-04\n",
      "Epoch 19/100\n",
      "100/100 [==============================] - 0s 4ms/step - loss: 0.0150 - mse: 8.8279e-04 - val_loss: 0.0257 - val_mse: 8.8506e-04\n",
      "Epoch 20/100\n",
      "100/100 [==============================] - 0s 5ms/step - loss: 0.0151 - mse: 9.2048e-04 - val_loss: 0.0239 - val_mse: 7.8772e-04\n",
      "Epoch 21/100\n",
      "100/100 [==============================] - 0s 4ms/step - loss: 0.0146 - mse: 9.3220e-04 - val_loss: 0.0240 - val_mse: 7.8299e-04\n",
      "Epoch 22/100\n",
      "100/100 [==============================] - 0s 4ms/step - loss: 0.0141 - mse: 7.8532e-04 - val_loss: 0.0184 - val_mse: 5.1922e-04\n",
      "Epoch 23/100\n",
      "100/100 [==============================] - 0s 4ms/step - loss: 0.0127 - mse: 7.6605e-04 - val_loss: 0.0218 - val_mse: 6.5791e-04\n",
      "Epoch 24/100\n",
      "100/100 [==============================] - 0s 4ms/step - loss: 0.0138 - mse: 8.4403e-04 - val_loss: 0.0200 - val_mse: 5.7506e-04\n",
      "Epoch 25/100\n",
      "100/100 [==============================] - 0s 4ms/step - loss: 0.0130 - mse: 7.6699e-04 - val_loss: 0.0183 - val_mse: 5.0516e-04\n",
      "Epoch 26/100\n",
      "100/100 [==============================] - 0s 4ms/step - loss: 0.0123 - mse: 7.5033e-04 - val_loss: 0.0176 - val_mse: 4.6237e-04\n",
      "Epoch 27/100\n",
      "100/100 [==============================] - 0s 4ms/step - loss: 0.0124 - mse: 7.6763e-04 - val_loss: 0.0181 - val_mse: 4.8573e-04\n",
      "Epoch 28/100\n",
      "100/100 [==============================] - 0s 4ms/step - loss: 0.0122 - mse: 7.5546e-04 - val_loss: 0.0122 - val_mse: 3.0140e-04\n",
      "Epoch 29/100\n",
      "100/100 [==============================] - 0s 4ms/step - loss: 0.0111 - mse: 6.6136e-04 - val_loss: 0.0179 - val_mse: 4.7105e-04\n",
      "Epoch 30/100\n",
      "100/100 [==============================] - 0s 4ms/step - loss: 0.0117 - mse: 6.0693e-04 - val_loss: 0.0172 - val_mse: 4.2727e-04\n",
      "Epoch 31/100\n",
      "100/100 [==============================] - 0s 4ms/step - loss: 0.0114 - mse: 6.2301e-04 - val_loss: 0.0146 - val_mse: 3.3731e-04\n",
      "12/12 [==============================] - 0s 2ms/step - loss: 0.0146 - mse: 3.3731e-04\n",
      "Epoch 1/100\n",
      "100/100 [==============================] - 0s 5ms/step - loss: 0.0109 - mse: 6.2143e-04 - val_loss: 0.0228 - val_mse: 7.2279e-04\n",
      "Epoch 2/100\n",
      "100/100 [==============================] - 0s 5ms/step - loss: 0.0125 - mse: 6.4712e-04 - val_loss: 0.0193 - val_mse: 5.7233e-04\n",
      "Epoch 3/100\n",
      "100/100 [==============================] - 0s 4ms/step - loss: 0.0117 - mse: 6.5715e-04 - val_loss: 0.0161 - val_mse: 4.6181e-04\n",
      "Epoch 4/100\n",
      "100/100 [==============================] - 0s 4ms/step - loss: 0.0106 - mse: 5.2625e-04 - val_loss: 0.0192 - val_mse: 5.7498e-04\n",
      "Epoch 5/100\n",
      "100/100 [==============================] - 0s 4ms/step - loss: 0.0110 - mse: 5.2321e-04 - val_loss: 0.0236 - val_mse: 7.3385e-04\n",
      "Epoch 6/100\n",
      "100/100 [==============================] - 0s 4ms/step - loss: 0.0122 - mse: 5.4328e-04 - val_loss: 0.0105 - val_mse: 3.1021e-04\n",
      "Epoch 7/100\n",
      "100/100 [==============================] - 0s 5ms/step - loss: 0.0097 - mse: 5.2142e-04 - val_loss: 0.0165 - val_mse: 4.5691e-04\n",
      "Epoch 8/100\n",
      "100/100 [==============================] - 0s 5ms/step - loss: 0.0105 - mse: 5.4540e-04 - val_loss: 0.0186 - val_mse: 5.2249e-04\n",
      "Epoch 9/100\n",
      "100/100 [==============================] - 0s 4ms/step - loss: 0.0104 - mse: 4.2848e-04 - val_loss: 0.0128 - val_mse: 3.4593e-04\n",
      "12/12 [==============================] - 0s 2ms/step - loss: 0.0128 - mse: 3.4593e-04\n",
      "Epoch 1/100\n",
      "100/100 [==============================] - 0s 5ms/step - loss: 0.0099 - mse: 5.1414e-04 - val_loss: 0.0123 - val_mse: 3.7721e-04\n",
      "Epoch 2/100\n",
      "100/100 [==============================] - 0s 5ms/step - loss: 0.0094 - mse: 4.4571e-04 - val_loss: 0.0169 - val_mse: 4.7980e-04\n",
      "Epoch 3/100\n",
      "100/100 [==============================] - 0s 5ms/step - loss: 0.0099 - mse: 4.6459e-04 - val_loss: 0.0125 - val_mse: 3.5492e-04\n",
      "Epoch 4/100\n",
      "100/100 [==============================] - 0s 4ms/step - loss: 0.0094 - mse: 4.5398e-04 - val_loss: 0.0103 - val_mse: 3.7638e-04\n",
      "Epoch 5/100\n",
      "100/100 [==============================] - 0s 5ms/step - loss: 0.0090 - mse: 4.1619e-04 - val_loss: 0.0168 - val_mse: 4.6847e-04\n",
      "Epoch 6/100\n",
      "100/100 [==============================] - 0s 5ms/step - loss: 0.0099 - mse: 4.8257e-04 - val_loss: 0.0096 - val_mse: 2.8240e-04\n",
      "Epoch 7/100\n",
      "100/100 [==============================] - 0s 5ms/step - loss: 0.0092 - mse: 4.3211e-04 - val_loss: 0.0075 - val_mse: 3.0102e-04\n",
      "Epoch 8/100\n",
      "100/100 [==============================] - 0s 5ms/step - loss: 0.0083 - mse: 4.1045e-04 - val_loss: 0.0117 - val_mse: 3.1479e-04\n",
      "Epoch 9/100\n",
      "100/100 [==============================] - 0s 4ms/step - loss: 0.0091 - mse: 4.1130e-04 - val_loss: 0.0106 - val_mse: 3.1804e-04\n",
      "Epoch 10/100\n",
      "100/100 [==============================] - 0s 4ms/step - loss: 0.0092 - mse: 4.3425e-04 - val_loss: 0.0090 - val_mse: 3.2736e-04\n",
      "12/12 [==============================] - 0s 2ms/step - loss: 0.0090 - mse: 3.2736e-04\n",
      "Epoch 1/100\n",
      "100/100 [==============================] - 0s 5ms/step - loss: 0.0091 - mse: 4.6401e-04 - val_loss: 0.0203 - val_mse: 5.4942e-04\n",
      "Epoch 2/100\n",
      "100/100 [==============================] - 0s 4ms/step - loss: 0.0109 - mse: 4.3875e-04 - val_loss: 0.0074 - val_mse: 2.0525e-04\n",
      "Epoch 3/100\n",
      "100/100 [==============================] - 0s 4ms/step - loss: 0.0084 - mse: 4.0345e-04 - val_loss: 0.0140 - val_mse: 3.2530e-04\n",
      "Epoch 4/100\n",
      "100/100 [==============================] - 0s 5ms/step - loss: 0.0094 - mse: 4.4171e-04 - val_loss: 0.0095 - val_mse: 2.2140e-04\n",
      "Epoch 5/100\n",
      "100/100 [==============================] - 0s 4ms/step - loss: 0.0088 - mse: 4.0546e-04 - val_loss: 0.0126 - val_mse: 2.9862e-04\n",
      "12/12 [==============================] - 0s 2ms/step - loss: 0.0126 - mse: 2.9862e-04\n",
      "Epoch 1/100\n",
      "100/100 [==============================] - 0s 5ms/step - loss: 0.0097 - mse: 4.7976e-04 - val_loss: 0.0177 - val_mse: 4.0372e-04\n",
      "Epoch 2/100\n",
      "100/100 [==============================] - 0s 4ms/step - loss: 0.0094 - mse: 4.3105e-04 - val_loss: 0.0137 - val_mse: 2.8905e-04\n",
      "Epoch 3/100\n",
      "100/100 [==============================] - 0s 4ms/step - loss: 0.0099 - mse: 4.8548e-04 - val_loss: 0.0080 - val_mse: 1.5422e-04\n",
      "Epoch 4/100\n",
      "100/100 [==============================] - 0s 4ms/step - loss: 0.0090 - mse: 5.0409e-04 - val_loss: 0.0064 - val_mse: 1.1003e-04\n",
      "Epoch 5/100\n",
      "100/100 [==============================] - 0s 5ms/step - loss: 0.0084 - mse: 4.1220e-04 - val_loss: 0.0110 - val_mse: 1.9847e-04\n",
      "Epoch 6/100\n",
      "100/100 [==============================] - 0s 4ms/step - loss: 0.0087 - mse: 3.7055e-04 - val_loss: 0.0087 - val_mse: 1.4468e-04\n",
      "Epoch 7/100\n",
      "100/100 [==============================] - 0s 5ms/step - loss: 0.0088 - mse: 4.0574e-04 - val_loss: 0.0149 - val_mse: 3.2262e-04\n",
      "12/12 [==============================] - 0s 2ms/step - loss: 0.0149 - mse: 3.2262e-04\n",
      "Epoch 1/100\n",
      "100/100 [==============================] - 0s 5ms/step - loss: 0.0101 - mse: 4.9349e-04 - val_loss: 0.0053 - val_mse: 9.9138e-05\n",
      "Epoch 2/100\n",
      "100/100 [==============================] - 0s 5ms/step - loss: 0.0084 - mse: 4.3264e-04 - val_loss: 0.0101 - val_mse: 1.6390e-04\n",
      "Epoch 3/100\n",
      "100/100 [==============================] - 0s 5ms/step - loss: 0.0092 - mse: 4.6203e-04 - val_loss: 0.0101 - val_mse: 1.8666e-04\n",
      "Epoch 4/100\n",
      "100/100 [==============================] - 0s 4ms/step - loss: 0.0089 - mse: 4.3194e-04 - val_loss: 0.0126 - val_mse: 2.2205e-04\n",
      "12/12 [==============================] - 0s 2ms/step - loss: 0.0126 - mse: 2.2205e-04\n",
      "Epoch 1/100\n",
      "100/100 [==============================] - 1s 5ms/step - loss: 0.0093 - mse: 4.1858e-04 - val_loss: 0.0067 - val_mse: 9.8132e-05\n",
      "Epoch 2/100\n",
      "100/100 [==============================] - 0s 4ms/step - loss: 0.0086 - mse: 3.8328e-04 - val_loss: 0.0125 - val_mse: 2.0600e-04\n",
      "Epoch 3/100\n",
      "100/100 [==============================] - 0s 4ms/step - loss: 0.0094 - mse: 4.0964e-04 - val_loss: 0.0112 - val_mse: 1.8611e-04\n",
      "Epoch 4/100\n",
      "100/100 [==============================] - 0s 5ms/step - loss: 0.0090 - mse: 4.1990e-04 - val_loss: 0.0148 - val_mse: 2.6957e-04\n",
      "12/12 [==============================] - 0s 2ms/step - loss: 0.0148 - mse: 2.6957e-04\n",
      "Epoch 1/100\n",
      "100/100 [==============================] - 0s 5ms/step - loss: 0.0098 - mse: 4.0402e-04 - val_loss: 0.0076 - val_mse: 2.2551e-04\n",
      "Epoch 2/100\n",
      "100/100 [==============================] - 0s 4ms/step - loss: 0.0089 - mse: 4.0630e-04 - val_loss: 0.0259 - val_mse: 8.4639e-04\n",
      "Epoch 3/100\n",
      "100/100 [==============================] - 0s 5ms/step - loss: 0.0117 - mse: 4.7452e-04 - val_loss: 0.0105 - val_mse: 2.5518e-04\n",
      "Epoch 4/100\n",
      "100/100 [==============================] - 0s 5ms/step - loss: 0.0088 - mse: 4.3816e-04 - val_loss: 0.0198 - val_mse: 5.3712e-04\n",
      "12/12 [==============================] - 0s 2ms/step - loss: 0.0198 - mse: 5.3712e-04\n",
      "Epoch 1/100\n",
      "100/100 [==============================] - 0s 5ms/step - loss: 0.0103 - mse: 4.7063e-04 - val_loss: 0.0063 - val_mse: 1.2044e-04\n",
      "Epoch 2/100\n",
      "100/100 [==============================] - 0s 5ms/step - loss: 0.0084 - mse: 4.1003e-04 - val_loss: 0.0157 - val_mse: 3.0573e-04\n",
      "Epoch 3/100\n",
      "100/100 [==============================] - 0s 4ms/step - loss: 0.0093 - mse: 3.8422e-04 - val_loss: 0.0129 - val_mse: 2.2082e-04\n",
      "Epoch 4/100\n",
      "100/100 [==============================] - 0s 5ms/step - loss: 0.0088 - mse: 3.7044e-04 - val_loss: 0.0159 - val_mse: 3.0928e-04\n",
      "12/12 [==============================] - 0s 2ms/step - loss: 0.0159 - mse: 3.0928e-04\n",
      "Epoch 1/100\n",
      "100/100 [==============================] - 0s 5ms/step - loss: 0.0095 - mse: 4.1838e-04 - val_loss: 0.0087 - val_mse: 1.7365e-04\n",
      "Epoch 2/100\n",
      "100/100 [==============================] - 0s 4ms/step - loss: 0.0089 - mse: 5.2238e-04 - val_loss: 0.0080 - val_mse: 1.1975e-04\n",
      "Epoch 3/100\n",
      "100/100 [==============================] - 0s 4ms/step - loss: 0.0088 - mse: 4.2316e-04 - val_loss: 0.0220 - val_mse: 6.0651e-04\n",
      "Epoch 4/100\n",
      "100/100 [==============================] - 0s 4ms/step - loss: 0.0109 - mse: 4.9044e-04 - val_loss: 0.0071 - val_mse: 1.2106e-04\n",
      "Epoch 5/100\n",
      "100/100 [==============================] - 0s 4ms/step - loss: 0.0086 - mse: 4.1025e-04 - val_loss: 0.0196 - val_mse: 4.7775e-04\n",
      "Epoch 6/100\n",
      "100/100 [==============================] - 0s 4ms/step - loss: 0.0100 - mse: 4.5037e-04 - val_loss: 0.0136 - val_mse: 2.8208e-04\n",
      "Epoch 7/100\n",
      "100/100 [==============================] - 0s 5ms/step - loss: 0.0090 - mse: 3.8163e-04 - val_loss: 0.0118 - val_mse: 2.4022e-04\n",
      "12/12 [==============================] - 0s 2ms/step - loss: 0.0118 - mse: 2.4022e-04\n"
     ]
    }
   ],
   "source": [
    "seed = 7\n",
    "np.random.seed(seed)\n",
    "cvscores = []\n",
    "kfold = KFold(n_splits=10, shuffle=True, random_state=seed)\n",
    "indexes=[]\n",
    "\n",
    "best_hps = tuner.get_best_hyperparameters(1)[0]\n",
    "model = tuner.get_best_models(1)[0]\n",
    "X_t , y_t = create_dataset(X, y)\n",
    "for train, test in kfold.split(X_t,y_t):\n",
    "    es_callback = keras.callbacks.EarlyStopping(monitor='val_loss', patience=3)\n",
    "    history = model.fit(X_t[train], y_t[train], epochs=100,validation_data=(X_t[test],y_t[test]),shuffle=False,callbacks=[es_callback])\n",
    "    cvscores.append(model.evaluate(X_t[test],y_t[test])[1])\n",
    "    indexes.append([train,test])"
   ]
  },
  {
   "cell_type": "code",
   "execution_count": 40,
   "id": "92f8e27e",
   "metadata": {},
   "outputs": [
    {
     "data": {
      "image/png": "[encoded data removed]",
      "text/plain": [
       "<Figure size 432x288 with 1 Axes>"
      ]
     },
     "metadata": {
      "needs_background": "light"
     },
     "output_type": "display_data"
    }
   ],
   "source": [
    "\n",
    "plt.plot(cvscores,   label= 'Testing MAE')\n",
    "plt.title ( 'Cross validation score ')\n",
    "plt.legend()\n",
    "plt.show()\n"
   ]
  },
  {
   "cell_type": "code",
   "execution_count": 41,
   "id": "11fe2c43",
   "metadata": {},
   "outputs": [],
   "source": [
    "best_split=cvscores.index(np.min(cvscores))\n",
    "train = indexes[best_split][0]\n",
    "test= indexes[best_split][1]"
   ]
  },
  {
   "cell_type": "code",
   "execution_count": 42,
   "id": "4e145fe2",
   "metadata": {},
   "outputs": [
    {
     "name": "stdout",
     "output_type": "stream",
     "text": [
      "Epoch 1/100\n",
      "100/100 [==============================] - 2s 22ms/step - loss: 0.0091 - mse: 4.3267e-04 - val_loss: 0.0113 - val_mse: 1.9518e-04\n",
      "Epoch 2/100\n",
      "100/100 [==============================] - 0s 5ms/step - loss: 0.0089 - mse: 4.0616e-04 - val_loss: 0.0104 - val_mse: 1.8717e-04\n",
      "Epoch 3/100\n",
      "100/100 [==============================] - 0s 4ms/step - loss: 0.0089 - mse: 4.3086e-04 - val_loss: 0.0106 - val_mse: 1.8152e-04\n",
      "Epoch 4/100\n",
      "100/100 [==============================] - 1s 5ms/step - loss: 0.0086 - mse: 3.7619e-04 - val_loss: 0.0117 - val_mse: 1.9550e-04\n",
      "Epoch 5/100\n",
      "100/100 [==============================] - 1s 5ms/step - loss: 0.0094 - mse: 4.5230e-04 - val_loss: 0.0139 - val_mse: 2.5682e-04\n"
     ]
    }
   ],
   "source": [
    "es_callback = keras.callbacks.EarlyStopping(monitor='val_loss', patience=3)\n",
    "logdir=\"logs/fit/\" + datetime.datetime.now().strftime(\"%Y%m%d-%H%M%S\")\n",
    "tensorboard_callback = keras.callbacks.TensorBoard(log_dir=logdir)\n",
    "history = model.fit(X_t[train], y_t[train], epochs=100,validation_data=(X_t[test],y_t[test]),shuffle=False,callbacks=[es_callback,tensorboard_callback])"
   ]
  },
  {
   "cell_type": "code",
   "execution_count": 43,
   "id": "ebaba538",
   "metadata": {},
   "outputs": [
    {
     "data": {
      "text/plain": [
       "Reusing TensorBoard on port 6006 (pid 12188), started 3:32:54 ago. (Use '!kill 12188' to kill it.)"
      ]
     },
     "metadata": {},
     "output_type": "display_data"
    },
    {
     "data": {
      "text/html": [
       "\n",
       "      <iframe id=\"tensorboard-frame-b196f159323f4bbc\" width=\"100%\" height=\"800\" frameborder=\"0\">\n",
       "      </iframe>\n",
       "      <script>\n",
       "        (function() {\n",
       "          const frame = document.getElementById(\"tensorboard-frame-b196f159323f4bbc\");\n",
       "          const url = new URL(\"/\", window.location);\n",
       "          const port = 6006;\n",
       "          if (port) {\n",
       "            url.port = port;\n",
       "          }\n",
       "          frame.src = url;\n",
       "        })();\n",
       "      </script>\n",
       "    "
      ],
      "text/plain": [
       "<IPython.core.display.HTML object>"
      ]
     },
     "metadata": {},
     "output_type": "display_data"
    }
   ],
   "source": [
    "%load_ext tensorboard\n",
    "%tensorboard --logdir logs"
   ]
  },
  {
   "cell_type": "code",
   "execution_count": 44,
   "id": "8da6336a",
   "metadata": {},
   "outputs": [
    {
     "name": "stdout",
     "output_type": "stream",
     "text": [
      "Model: \"sequential\"\n",
      "_________________________________________________________________\n",
      "Layer (type)                 Output Shape              Param #   \n",
      "=================================================================\n",
      "lstm (LSTM)                  (None, 1, 100)            42000     \n",
      "_________________________________________________________________\n",
      "dropout (Dropout)            (None, 1, 100)            0         \n",
      "_________________________________________________________________\n",
      "lstm_1 (LSTM)                (None, 1, 70)             47880     \n",
      "_________________________________________________________________\n",
      "dropout_1 (Dropout)          (None, 1, 70)             0         \n",
      "_________________________________________________________________\n",
      "lstm_2 (LSTM)                (None, 70)                39480     \n",
      "_________________________________________________________________\n",
      "dropout_2 (Dropout)          (None, 70)                0         \n",
      "_________________________________________________________________\n",
      "dense (Dense)                (None, 1)                 71        \n",
      "_________________________________________________________________\n",
      "activation (Activation)      (None, 1)                 0         \n",
      "=================================================================\n",
      "Total params: 129,431\n",
      "Trainable params: 129,431\n",
      "Non-trainable params: 0\n",
      "_________________________________________________________________\n"
     ]
    }
   ],
   "source": [
    "model.summary()"
   ]
  },
  {
   "cell_type": "code",
   "execution_count": 45,
   "id": "76da103f",
   "metadata": {},
   "outputs": [
    {
     "data": {
      "text/plain": [
       "<Figure size 1440x504 with 0 Axes>"
      ]
     },
     "metadata": {},
     "output_type": "display_data"
    },
    {
     "data": {
      "image/png": "[encoded data removed]",
      "text/plain": [
       "<Figure size 1008x504 with 2 Axes>"
      ]
     },
     "metadata": {
      "needs_background": "light"
     },
     "output_type": "display_data"
    }
   ],
   "source": [
    "plt.figure(figsize=(20,7))\n",
    "\n",
    "f ,(ax1, ax2) = plt.subplots(2, 1,figsize=(14,7))\n",
    "# f.figure(figsize=(20,7))\n",
    "ax1.plot(history.history['loss'],   label= 'Training MAE')\n",
    "ax2.plot(history.history['mse'],   label= 'Training MSE')\n",
    "f.suptitle(\"Training loss\")\n",
    "ax1.legend()\n",
    "ax2.legend()\n",
    "plt.show()\n",
    "f.savefig(\"Training loss.png\")"
   ]
  },
  {
   "cell_type": "markdown",
   "id": "52b14c4c",
   "metadata": {},
   "source": [
    "### Predict and test"
   ]
  },
  {
   "cell_type": "code",
   "execution_count": 46,
   "id": "85a9c389",
   "metadata": {},
   "outputs": [],
   "source": [
    "X_all,y_all=create_dataset(X,y)\n",
    "y_pred = model.predict(X_all)\n"
   ]
  },
  {
   "cell_type": "code",
   "execution_count": 47,
   "id": "53ba3a28",
   "metadata": {},
   "outputs": [],
   "source": [
    "y_pred_inv=(1/scaler.scale_[len(scaler.scale_)-1])*y_pred"
   ]
  },
  {
   "cell_type": "code",
   "execution_count": 48,
   "id": "24b660fa",
   "metadata": {},
   "outputs": [],
   "source": [
    "y_test_inv=(1/scaler.scale_[len(scaler.scale_)-1])*y_all"
   ]
  },
  {
   "cell_type": "code",
   "execution_count": 49,
   "id": "569a39ab",
   "metadata": {},
   "outputs": [
    {
     "name": "stdout",
     "output_type": "stream",
     "text": [
      "R2 score : 0.988 \n",
      "\n"
     ]
    }
   ],
   "source": [
    "score= r2_score(y_test_inv,y_pred_inv)\n",
    "print ( 'R2 score : {0:.3f} \\n'.format(score))"
   ]
  },
  {
   "cell_type": "code",
   "execution_count": 50,
   "id": "a93d2f3a",
   "metadata": {},
   "outputs": [
    {
     "data": {
      "image/png": "[encoded data removed]",
      "text/plain": [
       "<Figure size 1008x360 with 1 Axes>"
      ]
     },
     "metadata": {
      "needs_background": "light"
     },
     "output_type": "display_data"
    }
   ],
   "source": [
    "plt.figure(figsize=(14,5))\n",
    "plt.plot(Data['Date'].iloc[15:],y_test_inv, color = 'red', label = 'Real Bitcoin Stock Price')\n",
    "plt.plot(Data['Date'].iloc[15:],y_pred_inv, color = 'blue', label = 'Predicted Bitcoin Stock Price')\n",
    "plt.title('Bitcoin Stock Price Prediction ')\n",
    "plt.xlabel('Date')\n",
    "plt.ylabel('Bitcoin Stock Price')\n",
    "plt.legend()\n",
    "plt.show()"
   ]
  }
 ],
 "metadata": {
  "kernelspec": {
   "display_name": "Python 3",
   "language": "python",
   "name": "python3"
  },
  "language_info": {
   "codemirror_mode": {
    "name": "ipython",
    "version": 3
   },
   "file_extension": ".py",
   "mimetype": "text/x-python",
   "name": "python",
   "nbconvert_exporter": "python",
   "pygments_lexer": "ipython3",
   "version": "3.8.8"
  }
 },
 "nbformat": 4,
 "nbformat_minor": 5
}
