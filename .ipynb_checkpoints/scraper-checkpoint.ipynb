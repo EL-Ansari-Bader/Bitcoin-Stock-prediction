{
 "cells": [
  {
   "cell_type": "code",
   "execution_count": 56,
   "id": "078cf346",
   "metadata": {},
   "outputs": [],
   "source": [
    "from bs4 import BeautifulSoup \n",
    "import requests\n",
    "import time\n",
    "from random import randint\n",
    "import re\n",
    "from selenium import webdriver\n",
    "import datetime"
   ]
  },
  {
   "cell_type": "code",
   "execution_count": 2,
   "id": "e0a698a5",
   "metadata": {},
   "outputs": [],
   "source": [
    "import datetime\n",
    "\n",
    "dt = datetime.datetime(2021,7,5)\n",
    "end = datetime.datetime(2021, 7, 6)\n",
    "step = datetime.timedelta(days=1)\n",
    "\n",
    "dates_list = []\n",
    "\n",
    "while dt < end:\n",
    "    dates_list.append(dt.strftime('%d/%m/%Y'))\n",
    "    dt += step"
   ]
  },
  {
   "cell_type": "code",
   "execution_count": 61,
   "id": "0d41bf44",
   "metadata": {},
   "outputs": [
    {
     "name": "stdout",
     "output_type": "stream",
     "text": [
      "200\n",
      "200\n",
      "200\n",
      "200\n",
      "200\n",
      "200\n",
      "200\n",
      "200\n",
      "200\n",
      "200\n",
      "200\n",
      "200\n",
      "200\n",
      "200\n",
      "200\n",
      "200\n",
      "200\n",
      "200\n",
      "200\n",
      "200\n",
      "200\n",
      "200\n",
      "200\n",
      "200\n",
      "200\n",
      "200\n",
      "200\n",
      "200\n",
      "200\n",
      "200\n",
      "200\n"
     ]
    }
   ],
   "source": [
    "dt = datetime.datetime(2014, 1, 1)\n",
    "end = datetime.datetime(2014, 2, 1)\n",
    "step = datetime.timedelta(days=1)\n",
    "\n",
    "dates_list = []\n",
    "\n",
    "while dt < end:\n",
    "    dates_list.append(dt.strftime('%m/%d/%Y'))\n",
    "    dt += step\n",
    "\n",
    "news_dictionary = {}\n",
    "\n",
    "for dt in dates_list:\n",
    "    def scrape_news_urls(link):\n",
    "        # Time to wait before each request randomized to emulate human interaction with browser\n",
    "        time.sleep(randint(0, 20))\n",
    "        payload = {'as_epq': 'bitcoin', 'tbs':'cdr:1,cd_min:'+dt+',cd_max:'+dt+\"'\",'tbm':'nws'}\n",
    "        headers = {'User-Agent': 'Mozilla/5.0 (Windows NT 6.3; WOW64) AppleWebKit/537.36 (KHTML, like Gecko) Chrome/44.0.2403.157 Safari/537.36'}\n",
    "        r = requests.get(link, headers=headers, params=payload)\n",
    "        print(r.status_code)  # Print the status code\n",
    "        content = r.text\n",
    "        news_urls = []\n",
    "        soup = BeautifulSoup(content, \"lxml\")\n",
    "        news_url = soup.findAll(\"a\", {\"class\": \"l _PMs\"}, href=True)\n",
    "        for url in news_url:\n",
    "            news_urls.append(url['href'])\n",
    "        return news_urls\n",
    "    \n",
    "    URL = 'https://www.google.com/search'\n",
    "    n_url = scrape_news_urls(URL)\n",
    "    article_list = []\n",
    "    \n",
    "    for url in n_url:\n",
    "        \n",
    "\n",
    "        try:\n",
    "            from newspaper import Article\n",
    "            article = Article(url)\n",
    "            article.download()\n",
    "            article.parse()\n",
    "            article_list.append(article.text)\n",
    "        except:\n",
    "            article_list.append(\"\")\n",
    "\n",
    "news_dictionary[dt] = article_list"
   ]
  },
  {
   "cell_type": "code",
   "execution_count": null,
   "id": "4d57233d",
   "metadata": {},
   "outputs": [],
   "source": []
  }
 ],
 "metadata": {
  "kernelspec": {
   "display_name": "Python 3",
   "language": "python",
   "name": "python3"
  },
  "language_info": {
   "codemirror_mode": {
    "name": "ipython",
    "version": 3
   },
   "file_extension": ".py",
   "mimetype": "text/x-python",
   "name": "python",
   "nbconvert_exporter": "python",
   "pygments_lexer": "ipython3",
   "version": "3.9.5"
  }
 },
 "nbformat": 4,
 "nbformat_minor": 5
}
